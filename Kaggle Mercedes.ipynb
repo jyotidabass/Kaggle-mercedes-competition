{
 "cells": [
  {
   "cell_type": "code",
   "execution_count": 1,
   "metadata": {
    "collapsed": true
   },
   "outputs": [],
   "source": [
    "import numpy as np\n",
    "import pandas as pd\n",
    "from pandas import Series, DataFrame\n",
    "import os\n",
    "os.chdir('/media/shubham/04505A8E505A85F8/Data Science/kaggle/Mercedes')\n",
    "import matplotlib.pyplot as plt\n",
    "%matplotlib inline\n",
    "from sklearn import preprocessing\n",
    "from sklearn.ensemble import RandomForestRegressor\n",
    "from sklearn.model_selection import cross_val_score"
   ]
  },
  {
   "cell_type": "code",
   "execution_count": 2,
   "metadata": {
    "collapsed": true
   },
   "outputs": [],
   "source": [
    "train = pd.read_csv('train.csv')\n",
    "test = pd.read_csv('test.csv')"
   ]
  },
  {
   "cell_type": "code",
   "execution_count": 3,
   "metadata": {},
   "outputs": [
    {
     "data": {
      "text/html": [
       "<div>\n",
       "<style>\n",
       "    .dataframe thead tr:only-child th {\n",
       "        text-align: right;\n",
       "    }\n",
       "\n",
       "    .dataframe thead th {\n",
       "        text-align: left;\n",
       "    }\n",
       "\n",
       "    .dataframe tbody tr th {\n",
       "        vertical-align: top;\n",
       "    }\n",
       "</style>\n",
       "<table border=\"1\" class=\"dataframe\">\n",
       "  <thead>\n",
       "    <tr style=\"text-align: right;\">\n",
       "      <th></th>\n",
       "      <th>ID</th>\n",
       "      <th>y</th>\n",
       "      <th>X0</th>\n",
       "      <th>X1</th>\n",
       "      <th>X2</th>\n",
       "      <th>X3</th>\n",
       "      <th>X4</th>\n",
       "      <th>X5</th>\n",
       "      <th>X6</th>\n",
       "      <th>X8</th>\n",
       "      <th>...</th>\n",
       "      <th>X375</th>\n",
       "      <th>X376</th>\n",
       "      <th>X377</th>\n",
       "      <th>X378</th>\n",
       "      <th>X379</th>\n",
       "      <th>X380</th>\n",
       "      <th>X382</th>\n",
       "      <th>X383</th>\n",
       "      <th>X384</th>\n",
       "      <th>X385</th>\n",
       "    </tr>\n",
       "  </thead>\n",
       "  <tbody>\n",
       "    <tr>\n",
       "      <th>0</th>\n",
       "      <td>0</td>\n",
       "      <td>130.81</td>\n",
       "      <td>k</td>\n",
       "      <td>v</td>\n",
       "      <td>at</td>\n",
       "      <td>a</td>\n",
       "      <td>d</td>\n",
       "      <td>u</td>\n",
       "      <td>j</td>\n",
       "      <td>o</td>\n",
       "      <td>...</td>\n",
       "      <td>0</td>\n",
       "      <td>0</td>\n",
       "      <td>1</td>\n",
       "      <td>0</td>\n",
       "      <td>0</td>\n",
       "      <td>0</td>\n",
       "      <td>0</td>\n",
       "      <td>0</td>\n",
       "      <td>0</td>\n",
       "      <td>0</td>\n",
       "    </tr>\n",
       "    <tr>\n",
       "      <th>1</th>\n",
       "      <td>6</td>\n",
       "      <td>88.53</td>\n",
       "      <td>k</td>\n",
       "      <td>t</td>\n",
       "      <td>av</td>\n",
       "      <td>e</td>\n",
       "      <td>d</td>\n",
       "      <td>y</td>\n",
       "      <td>l</td>\n",
       "      <td>o</td>\n",
       "      <td>...</td>\n",
       "      <td>1</td>\n",
       "      <td>0</td>\n",
       "      <td>0</td>\n",
       "      <td>0</td>\n",
       "      <td>0</td>\n",
       "      <td>0</td>\n",
       "      <td>0</td>\n",
       "      <td>0</td>\n",
       "      <td>0</td>\n",
       "      <td>0</td>\n",
       "    </tr>\n",
       "    <tr>\n",
       "      <th>2</th>\n",
       "      <td>7</td>\n",
       "      <td>76.26</td>\n",
       "      <td>az</td>\n",
       "      <td>w</td>\n",
       "      <td>n</td>\n",
       "      <td>c</td>\n",
       "      <td>d</td>\n",
       "      <td>x</td>\n",
       "      <td>j</td>\n",
       "      <td>x</td>\n",
       "      <td>...</td>\n",
       "      <td>0</td>\n",
       "      <td>0</td>\n",
       "      <td>0</td>\n",
       "      <td>0</td>\n",
       "      <td>0</td>\n",
       "      <td>0</td>\n",
       "      <td>1</td>\n",
       "      <td>0</td>\n",
       "      <td>0</td>\n",
       "      <td>0</td>\n",
       "    </tr>\n",
       "    <tr>\n",
       "      <th>3</th>\n",
       "      <td>9</td>\n",
       "      <td>80.62</td>\n",
       "      <td>az</td>\n",
       "      <td>t</td>\n",
       "      <td>n</td>\n",
       "      <td>f</td>\n",
       "      <td>d</td>\n",
       "      <td>x</td>\n",
       "      <td>l</td>\n",
       "      <td>e</td>\n",
       "      <td>...</td>\n",
       "      <td>0</td>\n",
       "      <td>0</td>\n",
       "      <td>0</td>\n",
       "      <td>0</td>\n",
       "      <td>0</td>\n",
       "      <td>0</td>\n",
       "      <td>0</td>\n",
       "      <td>0</td>\n",
       "      <td>0</td>\n",
       "      <td>0</td>\n",
       "    </tr>\n",
       "    <tr>\n",
       "      <th>4</th>\n",
       "      <td>13</td>\n",
       "      <td>78.02</td>\n",
       "      <td>az</td>\n",
       "      <td>v</td>\n",
       "      <td>n</td>\n",
       "      <td>f</td>\n",
       "      <td>d</td>\n",
       "      <td>h</td>\n",
       "      <td>d</td>\n",
       "      <td>n</td>\n",
       "      <td>...</td>\n",
       "      <td>0</td>\n",
       "      <td>0</td>\n",
       "      <td>0</td>\n",
       "      <td>0</td>\n",
       "      <td>0</td>\n",
       "      <td>0</td>\n",
       "      <td>0</td>\n",
       "      <td>0</td>\n",
       "      <td>0</td>\n",
       "      <td>0</td>\n",
       "    </tr>\n",
       "  </tbody>\n",
       "</table>\n",
       "<p>5 rows × 378 columns</p>\n",
       "</div>"
      ],
      "text/plain": [
       "   ID       y  X0 X1  X2 X3 X4 X5 X6 X8  ...   X375  X376  X377  X378  X379  \\\n",
       "0   0  130.81   k  v  at  a  d  u  j  o  ...      0     0     1     0     0   \n",
       "1   6   88.53   k  t  av  e  d  y  l  o  ...      1     0     0     0     0   \n",
       "2   7   76.26  az  w   n  c  d  x  j  x  ...      0     0     0     0     0   \n",
       "3   9   80.62  az  t   n  f  d  x  l  e  ...      0     0     0     0     0   \n",
       "4  13   78.02  az  v   n  f  d  h  d  n  ...      0     0     0     0     0   \n",
       "\n",
       "   X380  X382  X383  X384  X385  \n",
       "0     0     0     0     0     0  \n",
       "1     0     0     0     0     0  \n",
       "2     0     1     0     0     0  \n",
       "3     0     0     0     0     0  \n",
       "4     0     0     0     0     0  \n",
       "\n",
       "[5 rows x 378 columns]"
      ]
     },
     "execution_count": 3,
     "metadata": {},
     "output_type": "execute_result"
    }
   ],
   "source": [
    "train.head()"
   ]
  },
  {
   "cell_type": "code",
   "execution_count": 4,
   "metadata": {},
   "outputs": [
    {
     "data": {
      "text/html": [
       "<div>\n",
       "<style>\n",
       "    .dataframe thead tr:only-child th {\n",
       "        text-align: right;\n",
       "    }\n",
       "\n",
       "    .dataframe thead th {\n",
       "        text-align: left;\n",
       "    }\n",
       "\n",
       "    .dataframe tbody tr th {\n",
       "        vertical-align: top;\n",
       "    }\n",
       "</style>\n",
       "<table border=\"1\" class=\"dataframe\">\n",
       "  <thead>\n",
       "    <tr style=\"text-align: right;\">\n",
       "      <th></th>\n",
       "      <th>Column Type</th>\n",
       "      <th>Count</th>\n",
       "    </tr>\n",
       "  </thead>\n",
       "  <tbody>\n",
       "    <tr>\n",
       "      <th>0</th>\n",
       "      <td>int64</td>\n",
       "      <td>369</td>\n",
       "    </tr>\n",
       "    <tr>\n",
       "      <th>1</th>\n",
       "      <td>float64</td>\n",
       "      <td>1</td>\n",
       "    </tr>\n",
       "    <tr>\n",
       "      <th>2</th>\n",
       "      <td>object</td>\n",
       "      <td>8</td>\n",
       "    </tr>\n",
       "  </tbody>\n",
       "</table>\n",
       "</div>"
      ],
      "text/plain": [
       "  Column Type  Count\n",
       "0       int64    369\n",
       "1     float64      1\n",
       "2      object      8"
      ]
     },
     "execution_count": 4,
     "metadata": {},
     "output_type": "execute_result"
    }
   ],
   "source": [
    "dtype_df = train.dtypes.reset_index()\n",
    "dtype_df.columns = [\"Count\", \"Column Type\"]\n",
    "dtype_df.groupby(\"Column Type\").aggregate('count').reset_index()"
   ]
  },
  {
   "cell_type": "code",
   "execution_count": 5,
   "metadata": {
    "collapsed": true
   },
   "outputs": [],
   "source": [
    "#removing int columns having only one type of value\n",
    "columns = train.columns[train.dtypes == 'int64']\n",
    "value_df = train[columns].apply(lambda x: len(np.unique(x))).reset_index()\n",
    "value_df.columns = ['column name','count']\n",
    "col_name = value_df.loc[value_df['count'] == 1, 'column name']\n",
    "col_1 = col_name.tolist()\n",
    "train.drop(col_1, axis=1, inplace=True)\n",
    "test.drop(col_1,axis=1,inplace=True)"
   ]
  },
  {
   "cell_type": "code",
   "execution_count": 6,
   "metadata": {
    "collapsed": true
   },
   "outputs": [],
   "source": [
    "# label encoding\n",
    "for f in [\"X0\", \"X1\", \"X2\", \"X3\", \"X4\", \"X5\", \"X6\", \"X8\"]:\n",
    "    label = preprocessing.LabelEncoder()\n",
    "    label.fit(list(train[f].values))\n",
    "    train[f] = label.transform(list(train[f].values))\n",
    "    label.fit(list(test[f].values))\n",
    "    test[f] = label.transform(list(test[f].values))"
   ]
  },
  {
   "cell_type": "code",
   "execution_count": 7,
   "metadata": {},
   "outputs": [
    {
     "data": {
      "text/plain": [
       "(4209, 366)"
      ]
     },
     "execution_count": 7,
     "metadata": {},
     "output_type": "execute_result"
    }
   ],
   "source": [
    "train.shape"
   ]
  },
  {
   "cell_type": "code",
   "execution_count": 8,
   "metadata": {},
   "outputs": [
    {
     "data": {
      "text/html": [
       "<div>\n",
       "<style>\n",
       "    .dataframe thead tr:only-child th {\n",
       "        text-align: right;\n",
       "    }\n",
       "\n",
       "    .dataframe thead th {\n",
       "        text-align: left;\n",
       "    }\n",
       "\n",
       "    .dataframe tbody tr th {\n",
       "        vertical-align: top;\n",
       "    }\n",
       "</style>\n",
       "<table border=\"1\" class=\"dataframe\">\n",
       "  <thead>\n",
       "    <tr style=\"text-align: right;\">\n",
       "      <th></th>\n",
       "      <th>ID</th>\n",
       "      <th>y</th>\n",
       "      <th>X0</th>\n",
       "      <th>X1</th>\n",
       "      <th>X2</th>\n",
       "      <th>X3</th>\n",
       "      <th>X4</th>\n",
       "      <th>X5</th>\n",
       "      <th>X6</th>\n",
       "      <th>X8</th>\n",
       "      <th>...</th>\n",
       "      <th>X375</th>\n",
       "      <th>X376</th>\n",
       "      <th>X377</th>\n",
       "      <th>X378</th>\n",
       "      <th>X379</th>\n",
       "      <th>X380</th>\n",
       "      <th>X382</th>\n",
       "      <th>X383</th>\n",
       "      <th>X384</th>\n",
       "      <th>X385</th>\n",
       "    </tr>\n",
       "  </thead>\n",
       "  <tbody>\n",
       "    <tr>\n",
       "      <th>0</th>\n",
       "      <td>0</td>\n",
       "      <td>130.81</td>\n",
       "      <td>32</td>\n",
       "      <td>23</td>\n",
       "      <td>17</td>\n",
       "      <td>0</td>\n",
       "      <td>3</td>\n",
       "      <td>24</td>\n",
       "      <td>9</td>\n",
       "      <td>14</td>\n",
       "      <td>...</td>\n",
       "      <td>0</td>\n",
       "      <td>0</td>\n",
       "      <td>1</td>\n",
       "      <td>0</td>\n",
       "      <td>0</td>\n",
       "      <td>0</td>\n",
       "      <td>0</td>\n",
       "      <td>0</td>\n",
       "      <td>0</td>\n",
       "      <td>0</td>\n",
       "    </tr>\n",
       "    <tr>\n",
       "      <th>1</th>\n",
       "      <td>6</td>\n",
       "      <td>88.53</td>\n",
       "      <td>32</td>\n",
       "      <td>21</td>\n",
       "      <td>19</td>\n",
       "      <td>4</td>\n",
       "      <td>3</td>\n",
       "      <td>28</td>\n",
       "      <td>11</td>\n",
       "      <td>14</td>\n",
       "      <td>...</td>\n",
       "      <td>1</td>\n",
       "      <td>0</td>\n",
       "      <td>0</td>\n",
       "      <td>0</td>\n",
       "      <td>0</td>\n",
       "      <td>0</td>\n",
       "      <td>0</td>\n",
       "      <td>0</td>\n",
       "      <td>0</td>\n",
       "      <td>0</td>\n",
       "    </tr>\n",
       "    <tr>\n",
       "      <th>2</th>\n",
       "      <td>7</td>\n",
       "      <td>76.26</td>\n",
       "      <td>20</td>\n",
       "      <td>24</td>\n",
       "      <td>34</td>\n",
       "      <td>2</td>\n",
       "      <td>3</td>\n",
       "      <td>27</td>\n",
       "      <td>9</td>\n",
       "      <td>23</td>\n",
       "      <td>...</td>\n",
       "      <td>0</td>\n",
       "      <td>0</td>\n",
       "      <td>0</td>\n",
       "      <td>0</td>\n",
       "      <td>0</td>\n",
       "      <td>0</td>\n",
       "      <td>1</td>\n",
       "      <td>0</td>\n",
       "      <td>0</td>\n",
       "      <td>0</td>\n",
       "    </tr>\n",
       "    <tr>\n",
       "      <th>3</th>\n",
       "      <td>9</td>\n",
       "      <td>80.62</td>\n",
       "      <td>20</td>\n",
       "      <td>21</td>\n",
       "      <td>34</td>\n",
       "      <td>5</td>\n",
       "      <td>3</td>\n",
       "      <td>27</td>\n",
       "      <td>11</td>\n",
       "      <td>4</td>\n",
       "      <td>...</td>\n",
       "      <td>0</td>\n",
       "      <td>0</td>\n",
       "      <td>0</td>\n",
       "      <td>0</td>\n",
       "      <td>0</td>\n",
       "      <td>0</td>\n",
       "      <td>0</td>\n",
       "      <td>0</td>\n",
       "      <td>0</td>\n",
       "      <td>0</td>\n",
       "    </tr>\n",
       "    <tr>\n",
       "      <th>4</th>\n",
       "      <td>13</td>\n",
       "      <td>78.02</td>\n",
       "      <td>20</td>\n",
       "      <td>23</td>\n",
       "      <td>34</td>\n",
       "      <td>5</td>\n",
       "      <td>3</td>\n",
       "      <td>12</td>\n",
       "      <td>3</td>\n",
       "      <td>13</td>\n",
       "      <td>...</td>\n",
       "      <td>0</td>\n",
       "      <td>0</td>\n",
       "      <td>0</td>\n",
       "      <td>0</td>\n",
       "      <td>0</td>\n",
       "      <td>0</td>\n",
       "      <td>0</td>\n",
       "      <td>0</td>\n",
       "      <td>0</td>\n",
       "      <td>0</td>\n",
       "    </tr>\n",
       "  </tbody>\n",
       "</table>\n",
       "<p>5 rows × 366 columns</p>\n",
       "</div>"
      ],
      "text/plain": [
       "   ID       y  X0  X1  X2  X3  X4  X5  X6  X8  ...   X375  X376  X377  X378  \\\n",
       "0   0  130.81  32  23  17   0   3  24   9  14  ...      0     0     1     0   \n",
       "1   6   88.53  32  21  19   4   3  28  11  14  ...      1     0     0     0   \n",
       "2   7   76.26  20  24  34   2   3  27   9  23  ...      0     0     0     0   \n",
       "3   9   80.62  20  21  34   5   3  27  11   4  ...      0     0     0     0   \n",
       "4  13   78.02  20  23  34   5   3  12   3  13  ...      0     0     0     0   \n",
       "\n",
       "   X379  X380  X382  X383  X384  X385  \n",
       "0     0     0     0     0     0     0  \n",
       "1     0     0     0     0     0     0  \n",
       "2     0     0     1     0     0     0  \n",
       "3     0     0     0     0     0     0  \n",
       "4     0     0     0     0     0     0  \n",
       "\n",
       "[5 rows x 366 columns]"
      ]
     },
     "execution_count": 8,
     "metadata": {},
     "output_type": "execute_result"
    }
   ],
   "source": [
    "train.head()"
   ]
  },
  {
   "cell_type": "code",
   "execution_count": 11,
   "metadata": {
    "collapsed": true
   },
   "outputs": [],
   "source": [
    "### using tpot library\n",
    "tpot_train = train.drop('ID',axis=1)\n",
    "tpot_test = test.drop('ID',axis=1)\n",
    "target = tpot_train['y']\n",
    "tpot_train.drop('y',axis=1,inplace=True)"
   ]
  },
  {
   "cell_type": "code",
   "execution_count": 12,
   "metadata": {},
   "outputs": [
    {
     "name": "stderr",
     "output_type": "stream",
     "text": [
      "                                                                                  \r"
     ]
    },
    {
     "name": "stdout",
     "output_type": "stream",
     "text": [
      "\n",
      "TPOT closed prematurely. Will use the current best pipeline.\n",
      "\n",
      "Best pipeline: DecisionTreeRegressor(input_matrix, DecisionTreeRegressor__max_depth=3, DecisionTreeRegressor__min_samples_leaf=18, DecisionTreeRegressor__min_samples_split=5)\n",
      "80.4315659865\n"
     ]
    }
   ],
   "source": [
    "from tpot import TPOTRegressor\n",
    "from sklearn.cross_validation import train_test_split\n",
    "X_train, X_test, y_train, y_test = train_test_split(tpot_train, target,\n",
    "                                                    train_size=0.75, test_size=0.25)\n",
    "\n",
    "tpot = TPOTRegressor(generations=15, population_size=200, verbosity=2)\n",
    "tpot.fit(X_train, y_train)\n",
    "print(tpot.score(X_test, y_test))\n",
    "tpot.export('tpot_boston_pipeline.py')"
   ]
  },
  {
   "cell_type": "code",
   "execution_count": 21,
   "metadata": {
    "collapsed": true
   },
   "outputs": [],
   "source": [
    "tpot_pred = tpot.predict(tpot_test)"
   ]
  },
  {
   "cell_type": "code",
   "execution_count": 22,
   "metadata": {
    "collapsed": true
   },
   "outputs": [],
   "source": [
    "#solution file\n",
    "solution = pd.DataFrame(test['ID'])\n",
    "solution['y'] = tpot_pred\n",
    "solution.to_csv('tpot.csv',index=False)"
   ]
  },
  {
   "cell_type": "code",
   "execution_count": null,
   "metadata": {
    "collapsed": true
   },
   "outputs": [],
   "source": []
  },
  {
   "cell_type": "code",
   "execution_count": null,
   "metadata": {
    "collapsed": true
   },
   "outputs": [],
   "source": []
  },
  {
   "cell_type": "code",
   "execution_count": null,
   "metadata": {
    "collapsed": true
   },
   "outputs": [],
   "source": []
  },
  {
   "cell_type": "code",
   "execution_count": 7,
   "metadata": {
    "collapsed": true
   },
   "outputs": [],
   "source": [
    "## random split\n",
    "training = train.drop(['y','ID'], axis=1)\n",
    "from sklearn.model_selection import train_test_split\n",
    "train_x, test_x, train_y, test_y = train_test_split(training,train['y'])"
   ]
  },
  {
   "cell_type": "code",
   "execution_count": 8,
   "metadata": {},
   "outputs": [
    {
     "data": {
      "text/plain": [
       "RandomForestRegressor(bootstrap=True, criterion='mse', max_depth=12,\n",
       "           max_features=0.2, max_leaf_nodes=None, min_impurity_split=1e-07,\n",
       "           min_samples_leaf=4, min_samples_split=2,\n",
       "           min_weight_fraction_leaf=0.0, n_estimators=300, n_jobs=1,\n",
       "           oob_score=False, random_state=1, verbose=0, warm_start=False)"
      ]
     },
     "execution_count": 8,
     "metadata": {},
     "output_type": "execute_result"
    }
   ],
   "source": [
    "## random forest model\n",
    "rf = RandomForestRegressor(n_estimators=300, max_depth=12, min_samples_leaf=4, max_features=0.2, random_state=1)\n",
    "rf.fit(train_x,train_y)"
   ]
  },
  {
   "cell_type": "code",
   "execution_count": 9,
   "metadata": {
    "collapsed": true
   },
   "outputs": [],
   "source": [
    "# checking score on cross val\n",
    "cross_val_score(rf,test_x,test_y, cv=10)"
   ]
  },
  {
   "cell_type": "code",
   "execution_count": 9,
   "metadata": {},
   "outputs": [
    {
     "data": {
      "image/png": "[encoded data removed]",
      "text/plain": [
       "<matplotlib.figure.Figure at 0x7f6511ae6048>"
      ]
     },
     "metadata": {},
     "output_type": "display_data"
    }
   ],
   "source": [
    "## plotting importance\n",
    "features = train_x.columns.values\n",
    "imp = rf.feature_importances_\n",
    "indices = np.argsort(imp)[::-1][:20]\n",
    "\n",
    "#plot\n",
    "plt.figure(figsize=(10,6))\n",
    "plt.bar(range(len(indices)), imp[indices], color = 'b', align='center')\n",
    "plt.xticks(range(len(indices)), features[indices], rotation='vertical')\n",
    "plt.xlim([-1,len(indices)])\n",
    "plt.show()"
   ]
  },
  {
   "cell_type": "code",
   "execution_count": 9,
   "metadata": {
    "collapsed": true
   },
   "outputs": [],
   "source": [
    "## baseline model prediction\n",
    "rf.fit(train[features[indices]],train['y'])\n",
    "pred = rf.predict(test[features[indices]])"
   ]
  },
  {
   "cell_type": "code",
   "execution_count": 127,
   "metadata": {
    "collapsed": true
   },
   "outputs": [],
   "source": [
    "#solution file\n",
    "solution = pd.DataFrame(test['ID'])\n",
    "solution['y'] = pred\n",
    "solution.to_csv('solution.csv',index=False)"
   ]
  },
  {
   "cell_type": "code",
   "execution_count": 10,
   "metadata": {},
   "outputs": [
    {
     "name": "stderr",
     "output_type": "stream",
     "text": [
      "/home/shubham/anaconda3/lib/python3.6/site-packages/sklearn/utils/validation.py:429: DataConversionWarning: Data with input dtype int64 was converted to float64 by the scale function.\n",
      "  warnings.warn(msg, _DataConversionWarning)\n"
     ]
    },
    {
     "data": {
      "text/plain": [
       "PCA(copy=True, iterated_power='auto', n_components=364, random_state=None,\n",
       "  svd_solver='auto', tol=0.0, whiten=False)"
      ]
     },
     "execution_count": 10,
     "metadata": {},
     "output_type": "execute_result"
    }
   ],
   "source": [
    "##### using pca then random forest ###\n",
    "from sklearn.decomposition import PCA\n",
    "from sklearn.preprocessing import scale\n",
    "pca_train = scale((train.drop(['y'],axis=1)).values)\n",
    "pca_test = scale(test.values)\n",
    "pca = PCA(n_components=364)\n",
    "pca.fit(pca_train)"
   ]
  },
  {
   "cell_type": "code",
   "execution_count": 11,
   "metadata": {},
   "outputs": [
    {
     "name": "stdout",
     "output_type": "stream",
     "text": [
      "var1 at 240 = 99.96\n"
     ]
    },
    {
     "data": {
      "image/png": "[encoded data removed]",
      "text/plain": [
       "<matplotlib.figure.Figure at 0x7f6511b429b0>"
      ]
     },
     "metadata": {},
     "output_type": "display_data"
    }
   ],
   "source": [
    "var = pca.explained_variance_ratio_\n",
    "var1 = np.cumsum(np.round(var, decimals=4)*100)\n",
    "plt.plot(var1)\n",
    "print (\"var1 at 240 = %2.2f\" % var1[240])"
   ]
  },
  {
   "cell_type": "code",
   "execution_count": 12,
   "metadata": {
    "collapsed": true
   },
   "outputs": [],
   "source": [
    "## taking only 10 components\n",
    "pca = PCA(n_components=10)\n",
    "#pca.fit(pca_train)\n",
    "pca_training = pca.fit_transform(pca_train)\n",
    "pca_testing = pca.transform(pca_test)"
   ]
  },
  {
   "cell_type": "code",
   "execution_count": 13,
   "metadata": {
    "collapsed": true
   },
   "outputs": [],
   "source": [
    "training = pd.DataFrame(data = pca_training[0:,0:])\n",
    "testing = pd.DataFrame(data = pca_testing[0:,0:])"
   ]
  },
  {
   "cell_type": "code",
   "execution_count": 14,
   "metadata": {
    "collapsed": true,
    "scrolled": true
   },
   "outputs": [],
   "source": [
    "training['ID'] = train['ID']\n",
    "pca_train1 = pd.merge(train,training, on = 'ID')\n",
    "testing['ID'] = test['ID']\n",
    "pca_test1 = pd.merge(test,testing,on=\"ID\")"
   ]
  },
  {
   "cell_type": "code",
   "execution_count": 43,
   "metadata": {},
   "outputs": [
    {
     "data": {
      "text/plain": [
       "array([ 0.91885718,  0.83273995,  0.88617924,  0.92114079,  0.82652669,\n",
       "        0.95519271,  0.89459374,  0.91127776,  0.95948131,  0.8943673 ])"
      ]
     },
     "execution_count": 43,
     "metadata": {},
     "output_type": "execute_result"
    }
   ],
   "source": [
    "## random forest using pca (cv)\n",
    "train_x, test_x, train_y, test_y = train_test_split(pca_train1.drop(['ID'],axis=1),pca_train1['y'])\n",
    "rf.fit(train_x,train_y)\n",
    "cross_val_score(rf, test_x,test_y, cv=10)"
   ]
  },
  {
   "cell_type": "code",
   "execution_count": 15,
   "metadata": {
    "collapsed": true
   },
   "outputs": [],
   "source": [
    "rf.fit(pca_train1.drop(['ID','y'],axis=1), pca_train1['y'])\n",
    "pred = rf.predict(pca_test1.drop(['ID'],axis=1))"
   ]
  },
  {
   "cell_type": "code",
   "execution_count": 48,
   "metadata": {
    "scrolled": true
   },
   "outputs": [
    {
     "name": "stdout",
     "output_type": "stream",
     "text": [
      "50 8 [ 0.82744098  0.89061304  0.86165983  0.85674195  0.90269995]\n",
      "50 10 [ 0.84681272  0.90974642  0.87043126  0.89597986  0.92310994]\n",
      "50 12 [ 0.8594123   0.90374139  0.88183804  0.89256225  0.93419602]\n",
      "50 14 [ 0.86101558  0.89265089  0.87723422  0.89946123  0.92919071]\n",
      "100 8 [ 0.84076281  0.89517183  0.86388142  0.88552152  0.91269018]\n",
      "100 10 [ 0.85746429  0.902351    0.87465713  0.90846862  0.93125158]\n",
      "100 12 [ 0.8775689   0.90311873  0.87748847  0.90204181  0.93814973]\n",
      "100 14 [ 0.86818012  0.90296705  0.87626515  0.90750677  0.9286299 ]\n",
      "200 8 [ 0.86173196  0.89128577  0.86037201  0.89174479  0.91786136]\n",
      "200 10 [ 0.86965     0.90153563  0.86933759  0.90809187  0.92813701]\n",
      "200 12 [ 0.88270027  0.9053269   0.87286385  0.90304805  0.93848754]\n",
      "200 14 [ 0.87233654  0.90418881  0.87211504  0.90826926  0.93054869]\n",
      "300 8 [ 0.86316109  0.89152365  0.86497267  0.89513931  0.9193982 ]\n",
      "300 10 [ 0.87388586  0.90419492  0.87425049  0.90929283  0.92691867]\n",
      "300 12 [ 0.88119333  0.9041202   0.8772117   0.90668093  0.93746808]\n",
      "300 14 [ 0.87627952  0.90533033  0.87547767  0.90711959  0.93341191]\n"
     ]
    }
   ],
   "source": [
    "## parameter tuning of random forest\n",
    "for n in [50,100,200,300]:\n",
    "    for d in [8,10,12,14]:\n",
    "        rf = RandomForestRegressor(n_estimators=n, max_depth=d, min_samples_leaf=4,\n",
    "                                   max_features=0.2, random_state=1)\n",
    "        rf.fit(train_x,train_y)\n",
    "        print (n,d,cross_val_score(rf, test_x,test_y, cv=5))"
   ]
  },
  {
   "cell_type": "code",
   "execution_count": 16,
   "metadata": {
    "collapsed": true
   },
   "outputs": [],
   "source": [
    "## adding ica parameters\n",
    "from sklearn.decomposition import FastICA\n",
    "ica = FastICA(n_components=10, random_state=42)\n",
    "ica2_results_train = ica.fit_transform(train.drop([\"y\"], axis=1))\n",
    "ica2_results_test = ica.transform(test)"
   ]
  },
  {
   "cell_type": "code",
   "execution_count": 17,
   "metadata": {
    "collapsed": true
   },
   "outputs": [],
   "source": [
    "## adding it to train and test\n",
    "ica2_results_train = pd.DataFrame(data = ica2_results_train[0:,0:])\n",
    "ica2_results_test = pd.DataFrame(data = ica2_results_test[0:,0:])\n",
    "ica2_results_train['ID'] = train['ID']\n",
    "final_train = pd.merge(pca_train1,ica2_results_train, on='ID')\n",
    "ica2_results_test['ID'] = test['ID']\n",
    "final_test = pd.merge(pca_test1,ica2_results_test, on ='ID')"
   ]
  },
  {
   "cell_type": "code",
   "execution_count": 26,
   "metadata": {
    "collapsed": true
   },
   "outputs": [],
   "source": [
    "# random forest model\n",
    "rf = RandomForestRegressor(n_estimators=300, max_depth=10, min_samples_leaf=4,\n",
    "                                   max_features=0.2, random_state=1)\n",
    "rf.fit(final_train.drop('y',axis=1),final_train['y'])\n",
    "rf_pred = rf.predict(final_test)"
   ]
  },
  {
   "cell_type": "code",
   "execution_count": 57,
   "metadata": {
    "collapsed": true
   },
   "outputs": [],
   "source": [
    "rf_tpred = rf.predict(final_train.drop('y',axis=1))"
   ]
  },
  {
   "cell_type": "code",
   "execution_count": 39,
   "metadata": {
    "collapsed": true
   },
   "outputs": [],
   "source": [
    "#solution file\n",
    "solution = pd.DataFrame(test['ID'])\n",
    "solution['y'] = rf_pred\n",
    "solution.to_csv('rf_pred.csv',index=False)"
   ]
  },
  {
   "cell_type": "code",
   "execution_count": 27,
   "metadata": {},
   "outputs": [
    {
     "data": {
      "text/plain": [
       "0.67632370117675256"
      ]
     },
     "execution_count": 27,
     "metadata": {},
     "output_type": "execute_result"
    }
   ],
   "source": [
    "r2_score(final_train['y'],rf.predict(final_train.drop('y',axis=1)))"
   ]
  },
  {
   "cell_type": "code",
   "execution_count": 18,
   "metadata": {
    "scrolled": false
   },
   "outputs": [
    {
     "data": {
      "text/html": [
       "<div>\n",
       "<style>\n",
       "    .dataframe thead tr:only-child th {\n",
       "        text-align: right;\n",
       "    }\n",
       "\n",
       "    .dataframe thead th {\n",
       "        text-align: left;\n",
       "    }\n",
       "\n",
       "    .dataframe tbody tr th {\n",
       "        vertical-align: top;\n",
       "    }\n",
       "</style>\n",
       "<table border=\"1\" class=\"dataframe\">\n",
       "  <thead>\n",
       "    <tr style=\"text-align: right;\">\n",
       "      <th></th>\n",
       "      <th>ID</th>\n",
       "      <th>y</th>\n",
       "      <th>X0</th>\n",
       "      <th>X1</th>\n",
       "      <th>X2</th>\n",
       "      <th>X3</th>\n",
       "      <th>X4</th>\n",
       "      <th>X5</th>\n",
       "      <th>X6</th>\n",
       "      <th>X8</th>\n",
       "      <th>...</th>\n",
       "      <th>0_y</th>\n",
       "      <th>1_y</th>\n",
       "      <th>2_y</th>\n",
       "      <th>3_y</th>\n",
       "      <th>4_y</th>\n",
       "      <th>5_y</th>\n",
       "      <th>6_y</th>\n",
       "      <th>7_y</th>\n",
       "      <th>8_y</th>\n",
       "      <th>9_y</th>\n",
       "    </tr>\n",
       "  </thead>\n",
       "  <tbody>\n",
       "    <tr>\n",
       "      <th>0</th>\n",
       "      <td>0</td>\n",
       "      <td>130.81</td>\n",
       "      <td>32</td>\n",
       "      <td>23</td>\n",
       "      <td>17</td>\n",
       "      <td>0</td>\n",
       "      <td>3</td>\n",
       "      <td>24</td>\n",
       "      <td>9</td>\n",
       "      <td>14</td>\n",
       "      <td>...</td>\n",
       "      <td>-0.012076</td>\n",
       "      <td>0.055706</td>\n",
       "      <td>-0.003247</td>\n",
       "      <td>-0.007201</td>\n",
       "      <td>0.020324</td>\n",
       "      <td>-0.014586</td>\n",
       "      <td>-0.002302</td>\n",
       "      <td>-0.004645</td>\n",
       "      <td>-0.014563</td>\n",
       "      <td>-0.033306</td>\n",
       "    </tr>\n",
       "    <tr>\n",
       "      <th>1</th>\n",
       "      <td>6</td>\n",
       "      <td>88.53</td>\n",
       "      <td>32</td>\n",
       "      <td>21</td>\n",
       "      <td>19</td>\n",
       "      <td>4</td>\n",
       "      <td>3</td>\n",
       "      <td>28</td>\n",
       "      <td>11</td>\n",
       "      <td>14</td>\n",
       "      <td>...</td>\n",
       "      <td>-0.003178</td>\n",
       "      <td>0.064108</td>\n",
       "      <td>-0.008808</td>\n",
       "      <td>-0.006876</td>\n",
       "      <td>0.020453</td>\n",
       "      <td>-0.025289</td>\n",
       "      <td>-0.000173</td>\n",
       "      <td>-0.006105</td>\n",
       "      <td>-0.007012</td>\n",
       "      <td>0.000733</td>\n",
       "    </tr>\n",
       "    <tr>\n",
       "      <th>2</th>\n",
       "      <td>7</td>\n",
       "      <td>76.26</td>\n",
       "      <td>20</td>\n",
       "      <td>24</td>\n",
       "      <td>34</td>\n",
       "      <td>2</td>\n",
       "      <td>3</td>\n",
       "      <td>27</td>\n",
       "      <td>9</td>\n",
       "      <td>23</td>\n",
       "      <td>...</td>\n",
       "      <td>0.002669</td>\n",
       "      <td>0.061362</td>\n",
       "      <td>-0.007540</td>\n",
       "      <td>0.006749</td>\n",
       "      <td>0.022856</td>\n",
       "      <td>-0.015241</td>\n",
       "      <td>0.015132</td>\n",
       "      <td>-0.023838</td>\n",
       "      <td>-0.026481</td>\n",
       "      <td>-0.011567</td>\n",
       "    </tr>\n",
       "    <tr>\n",
       "      <th>3</th>\n",
       "      <td>9</td>\n",
       "      <td>80.62</td>\n",
       "      <td>20</td>\n",
       "      <td>21</td>\n",
       "      <td>34</td>\n",
       "      <td>5</td>\n",
       "      <td>3</td>\n",
       "      <td>27</td>\n",
       "      <td>11</td>\n",
       "      <td>4</td>\n",
       "      <td>...</td>\n",
       "      <td>0.000392</td>\n",
       "      <td>0.062544</td>\n",
       "      <td>-0.006894</td>\n",
       "      <td>0.007960</td>\n",
       "      <td>0.019111</td>\n",
       "      <td>-0.025509</td>\n",
       "      <td>0.005424</td>\n",
       "      <td>0.016447</td>\n",
       "      <td>-0.027331</td>\n",
       "      <td>0.014849</td>\n",
       "    </tr>\n",
       "    <tr>\n",
       "      <th>4</th>\n",
       "      <td>13</td>\n",
       "      <td>78.02</td>\n",
       "      <td>20</td>\n",
       "      <td>23</td>\n",
       "      <td>34</td>\n",
       "      <td>5</td>\n",
       "      <td>3</td>\n",
       "      <td>12</td>\n",
       "      <td>3</td>\n",
       "      <td>13</td>\n",
       "      <td>...</td>\n",
       "      <td>-0.003333</td>\n",
       "      <td>0.030945</td>\n",
       "      <td>0.012991</td>\n",
       "      <td>0.007805</td>\n",
       "      <td>0.020816</td>\n",
       "      <td>0.018466</td>\n",
       "      <td>0.013598</td>\n",
       "      <td>-0.001895</td>\n",
       "      <td>-0.032349</td>\n",
       "      <td>0.016118</td>\n",
       "    </tr>\n",
       "  </tbody>\n",
       "</table>\n",
       "<p>5 rows × 386 columns</p>\n",
       "</div>"
      ],
      "text/plain": [
       "   ID       y  X0  X1  X2  X3  X4  X5  X6  X8    ...          0_y       1_y  \\\n",
       "0   0  130.81  32  23  17   0   3  24   9  14    ...    -0.012076  0.055706   \n",
       "1   6   88.53  32  21  19   4   3  28  11  14    ...    -0.003178  0.064108   \n",
       "2   7   76.26  20  24  34   2   3  27   9  23    ...     0.002669  0.061362   \n",
       "3   9   80.62  20  21  34   5   3  27  11   4    ...     0.000392  0.062544   \n",
       "4  13   78.02  20  23  34   5   3  12   3  13    ...    -0.003333  0.030945   \n",
       "\n",
       "        2_y       3_y       4_y       5_y       6_y       7_y       8_y  \\\n",
       "0 -0.003247 -0.007201  0.020324 -0.014586 -0.002302 -0.004645 -0.014563   \n",
       "1 -0.008808 -0.006876  0.020453 -0.025289 -0.000173 -0.006105 -0.007012   \n",
       "2 -0.007540  0.006749  0.022856 -0.015241  0.015132 -0.023838 -0.026481   \n",
       "3 -0.006894  0.007960  0.019111 -0.025509  0.005424  0.016447 -0.027331   \n",
       "4  0.012991  0.007805  0.020816  0.018466  0.013598 -0.001895 -0.032349   \n",
       "\n",
       "        9_y  \n",
       "0 -0.033306  \n",
       "1  0.000733  \n",
       "2 -0.011567  \n",
       "3  0.014849  \n",
       "4  0.016118  \n",
       "\n",
       "[5 rows x 386 columns]"
      ]
     },
     "execution_count": 18,
     "metadata": {},
     "output_type": "execute_result"
    }
   ],
   "source": [
    "final_train.head()"
   ]
  },
  {
   "cell_type": "code",
   "execution_count": 101,
   "metadata": {
    "collapsed": true
   },
   "outputs": [],
   "source": [
    "import xgboost as xgb\n",
    "#base_score= np.mean(training['segment'])\n",
    "xgb_para = {\n",
    "    \n",
    "    'eta':0.05,\n",
    "    'max_depth':6,\n",
    "    'subsample':0.75,\n",
    "    'objective':'reg:linear',\n",
    "    'colsample_bytree':0.8,\n",
    "    'min_child_weight':1,\n",
    "    'eval_metric':'rmse',\n",
    "    #'base-score': base_score\n",
    "}"
   ]
  },
  {
   "cell_type": "code",
   "execution_count": 102,
   "metadata": {
    "collapsed": true
   },
   "outputs": [],
   "source": [
    "#Dmatrix\n",
    "dtrain = xgb.DMatrix(final_train.drop(['y'], axis=1), final_train['y'])\n",
    "dtest = xgb.DMatrix(final_test)"
   ]
  },
  {
   "cell_type": "code",
   "execution_count": 104,
   "metadata": {},
   "outputs": [
    {
     "name": "stdout",
     "output_type": "stream",
     "text": [
      "[0]\ttrain-rmse:95.9717\ttest-rmse:95.9699\n",
      "[50]\ttrain-rmse:10.6123\ttest-rmse:11.2375\n",
      "[100]\ttrain-rmse:6.35328\ttest-rmse:8.46569\n",
      "101\n"
     ]
    }
   ],
   "source": [
    "#xgboost cv\n",
    "cv_result = xgb.cv(xgb_para,\n",
    "                   dtrain,\n",
    "                   num_boost_round=200,\n",
    "                   early_stopping_rounds=50,\n",
    "                   verbose_eval=50,\n",
    "                   show_stdv=False)\n",
    "num_boost_rounds = len(cv_result)\n",
    "print (num_boost_rounds)\n",
    "\n",
    "model = xgb.train(dict(xgb_para), dtrain,num_boost_round=num_boost_rounds)"
   ]
  },
  {
   "cell_type": "code",
   "execution_count": 105,
   "metadata": {},
   "outputs": [
    {
     "name": "stdout",
     "output_type": "stream",
     "text": [
      "0.714930167126\n"
     ]
    }
   ],
   "source": [
    "from sklearn.metrics import r2_score\n",
    "print (r2_score(dtrain.get_label(),model.predict(dtrain)))"
   ]
  },
  {
   "cell_type": "code",
   "execution_count": 106,
   "metadata": {
    "collapsed": true
   },
   "outputs": [],
   "source": [
    "# making pred\n",
    "xgb_pred = model.predict(dtest)\n",
    "xgb_tpred = model.predict(dtrain)\n",
    "#solution file\n",
    "solution = pd.DataFrame(test['ID'])\n",
    "solution['y'] = pred\n",
    "solution.to_csv('xgb_pred.csv',index=False)"
   ]
  },
  {
   "cell_type": "code",
   "execution_count": 107,
   "metadata": {
    "collapsed": true
   },
   "outputs": [],
   "source": [
    "light_pred = pd.read_csv('solution.csv')"
   ]
  },
  {
   "cell_type": "code",
   "execution_count": 42,
   "metadata": {
    "collapsed": true
   },
   "outputs": [],
   "source": [
    "## ensembling by taking avg of xgb rf and light\n",
    "lgbm = light_pred['y']"
   ]
  },
  {
   "cell_type": "code",
   "execution_count": 49,
   "metadata": {
    "collapsed": true
   },
   "outputs": [],
   "source": [
    "final_pred = (0.3*lgbm + 0.5*xgb_pred + 0.2*rf_pred)\n",
    "##solution\n",
    "solution = pd.DataFrame(test['ID'])\n",
    "solution['y'] = final_pred\n",
    "solution.to_csv('solution.csv',index=False)"
   ]
  },
  {
   "cell_type": "code",
   "execution_count": 93,
   "metadata": {
    "collapsed": true
   },
   "outputs": [],
   "source": [
    "## linear regression\n",
    "from sklearn.linear_model import Lasso\n",
    "lreg = Lasso(alpha=0.1,normalize=False)\n",
    "lreg.fit(final_train.drop('y',axis=1),final_train['y'])\n",
    "lreg_pred= lreg.predict(final_test)"
   ]
  },
  {
   "cell_type": "code",
   "execution_count": 94,
   "metadata": {},
   "outputs": [
    {
     "data": {
      "text/plain": [
       "0.54527527550618737"
      ]
     },
     "execution_count": 94,
     "metadata": {},
     "output_type": "execute_result"
    }
   ],
   "source": [
    "r2_score(final_train['y'],lreg.predict(final_train.drop('y',axis=1)))"
   ]
  },
  {
   "cell_type": "code",
   "execution_count": 95,
   "metadata": {
    "collapsed": true
   },
   "outputs": [],
   "source": [
    "lreg_tpred = lreg.predict(final_train.drop('y',axis=1))"
   ]
  },
  {
   "cell_type": "code",
   "execution_count": 98,
   "metadata": {},
   "outputs": [
    {
     "data": {
      "text/plain": [
       "0.69807402523725703"
      ]
     },
     "execution_count": 98,
     "metadata": {},
     "output_type": "execute_result"
    }
   ],
   "source": [
    "r2_score(final_train['y'], (0.1*lreg_tpred + 0.2*rf_tpred + 0.7*xgb_tpred))"
   ]
  },
  {
   "cell_type": "code",
   "execution_count": 108,
   "metadata": {
    "collapsed": true
   },
   "outputs": [],
   "source": [
    "ens_pred= pd.read_csv('subXgb_Stack_Stack_No_ID.csv')"
   ]
  },
  {
   "cell_type": "code",
   "execution_count": 109,
   "metadata": {
    "collapsed": true
   },
   "outputs": [],
   "source": [
    "final_pred = (xgb_pred + ens_pred['y'])/2\n",
    "##solution\n",
    "solution = pd.DataFrame(test['ID'])\n",
    "solution['y'] = final_pred\n",
    "solution.to_csv('solution.csv',index=False)"
   ]
  },
  {
   "cell_type": "code",
   "execution_count": null,
   "metadata": {
    "collapsed": true
   },
   "outputs": [],
   "source": []
  }
 ],
 "metadata": {
  "kernelspec": {
   "display_name": "Python 3",
   "language": "python",
   "name": "python3"
  },
  "language_info": {
   "codemirror_mode": {
    "name": "ipython",
    "version": 3
   },
   "file_extension": ".py",
   "mimetype": "text/x-python",
   "name": "python",
   "nbconvert_exporter": "python",
   "pygments_lexer": "ipython3",
   "version": "3.6.1"
  }
 },
 "nbformat": 4,
 "nbformat_minor": 2
}
